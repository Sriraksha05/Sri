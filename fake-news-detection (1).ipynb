{
 "cells": [
  {
   "cell_type": "markdown",
   "id": "461dfb50",
   "metadata": {},
   "source": [
    "# Dataset Description\n",
    "\n",
    "\n",
    "- train.csv: A full training dataset with the following attributes\n",
    "\n",
    "    id: unique id for a news article\n",
    "\n",
    "    title: the title of a news article\n",
    "    \n",
    "    author: author of the news article\n",
    "\n",
    "    text: the text of the article; could be incomplete\n",
    "\n",
    "    label: a label that marks the article as potentially unreliable\n",
    "\n",
    "        1: unreliable\n",
    "        0: reliable\n",
    "\n",
    "test.csv: A testing dataset with all the same attributes at train.csv without the label "
   ]
  },
  {
   "cell_type": "markdown",
   "id": "1db8a85f",
   "metadata": {},
   "source": [
    "#  Importing the Dependencieses\n"
   ]
  },
  {
   "cell_type": "code",
   "execution_count": 3,
   "id": "e449159b",
   "metadata": {},
   "outputs": [
    {
     "name": "stderr",
     "output_type": "stream",
     "text": [
      "C:\\Users\\Punith\\anaconda3\\Lib\\site-packages\\tpot\\builtins\\__init__.py:36: UserWarning: Warning: optional dependency `torch` is not available. - skipping import of NN models.\n",
      "  warnings.warn(\"Warning: optional dependency `torch` is not available. - skipping import of NN models.\")\n"
     ]
    }
   ],
   "source": [
    "import pandas as pd\n",
    "import numpy as np\n",
    "import re\n",
    "from matplotlib import pyplot as plt\n",
    "import seaborn as sns\n",
    "%matplotlib inline\n",
    "\n",
    "import nltk\n",
    "from nltk.corpus import stopwords\n",
    "from nltk.stem.porter import PorterStemmer\n",
    "\n",
    "from sklearn.feature_extraction.text import TfidfVectorizer\n",
    "from sklearn.feature_extraction.text import CountVectorizer\n",
    "from sklearn.feature_extraction.text import TfidfTransformer\n",
    "\n",
    "from sklearn.model_selection import train_test_split, cross_val_score\n",
    "from sklearn.metrics import confusion_matrix, classification_report, roc_curve, auc, RocCurveDisplay\n",
    "from sklearn.linear_model import LogisticRegression\n",
    "from sklearn.ensemble import RandomForestClassifier\n",
    "from sklearn.tree import DecisionTreeClassifier\n",
    "from sklearn.neighbors import KNeighborsClassifier\n",
    "from sklearn.svm import SVC\n",
    "from sklearn.naive_bayes import MultinomialNB\n",
    "\n",
    "from tpot import TPOTClassifier\n",
    "\n",
    "\n",
    "\n",
    "import warnings\n",
    "warnings.filterwarnings(\"ignore\")\n"
   ]
  },
  {
   "cell_type": "code",
   "execution_count": 4,
   "id": "1c120c0f-7b38-4c2e-a9b3-37b0d2a8f5d4",
   "metadata": {},
   "outputs": [
    {
     "name": "stdout",
     "output_type": "stream",
     "text": [
      "Requirement already satisfied: tpot in c:\\users\\punith\\anaconda3\\lib\\site-packages (0.12.2)\n",
      "Requirement already satisfied: numpy>=1.16.3 in c:\\users\\punith\\anaconda3\\lib\\site-packages (from tpot) (1.26.4)\n",
      "Requirement already satisfied: scipy>=1.3.1 in c:\\users\\punith\\anaconda3\\lib\\site-packages (from tpot) (1.13.1)\n",
      "Requirement already satisfied: scikit-learn>=1.4.1 in c:\\users\\punith\\anaconda3\\lib\\site-packages (from tpot) (1.4.2)\n",
      "Requirement already satisfied: deap>=1.2 in c:\\users\\punith\\anaconda3\\lib\\site-packages (from tpot) (1.4.1)\n",
      "Requirement already satisfied: update-checker>=0.16 in c:\\users\\punith\\anaconda3\\lib\\site-packages (from tpot) (0.18.0)\n",
      "Requirement already satisfied: tqdm>=4.36.1 in c:\\users\\punith\\anaconda3\\lib\\site-packages (from tpot) (4.66.4)\n",
      "Requirement already satisfied: stopit>=1.1.1 in c:\\users\\punith\\anaconda3\\lib\\site-packages (from tpot) (1.1.2)\n",
      "Requirement already satisfied: pandas>=0.24.2 in c:\\users\\punith\\anaconda3\\lib\\site-packages (from tpot) (2.2.2)\n",
      "Requirement already satisfied: joblib>=0.13.2 in c:\\users\\punith\\anaconda3\\lib\\site-packages (from tpot) (1.4.2)\n",
      "Requirement already satisfied: xgboost>=1.1.0 in c:\\users\\punith\\anaconda3\\lib\\site-packages (from tpot) (2.1.3)\n",
      "Requirement already satisfied: python-dateutil>=2.8.2 in c:\\users\\punith\\anaconda3\\lib\\site-packages (from pandas>=0.24.2->tpot) (2.9.0.post0)\n",
      "Requirement already satisfied: pytz>=2020.1 in c:\\users\\punith\\anaconda3\\lib\\site-packages (from pandas>=0.24.2->tpot) (2024.1)\n",
      "Requirement already satisfied: tzdata>=2022.7 in c:\\users\\punith\\anaconda3\\lib\\site-packages (from pandas>=0.24.2->tpot) (2023.3)\n",
      "Requirement already satisfied: threadpoolctl>=2.0.0 in c:\\users\\punith\\anaconda3\\lib\\site-packages (from scikit-learn>=1.4.1->tpot) (2.2.0)\n",
      "Requirement already satisfied: colorama in c:\\users\\punith\\anaconda3\\lib\\site-packages (from tqdm>=4.36.1->tpot) (0.4.6)\n",
      "Requirement already satisfied: requests>=2.3.0 in c:\\users\\punith\\anaconda3\\lib\\site-packages (from update-checker>=0.16->tpot) (2.32.2)\n",
      "Requirement already satisfied: six>=1.5 in c:\\users\\punith\\anaconda3\\lib\\site-packages (from python-dateutil>=2.8.2->pandas>=0.24.2->tpot) (1.16.0)\n",
      "Requirement already satisfied: charset-normalizer<4,>=2 in c:\\users\\punith\\anaconda3\\lib\\site-packages (from requests>=2.3.0->update-checker>=0.16->tpot) (2.0.4)\n",
      "Requirement already satisfied: idna<4,>=2.5 in c:\\users\\punith\\anaconda3\\lib\\site-packages (from requests>=2.3.0->update-checker>=0.16->tpot) (3.7)\n",
      "Requirement already satisfied: urllib3<3,>=1.21.1 in c:\\users\\punith\\anaconda3\\lib\\site-packages (from requests>=2.3.0->update-checker>=0.16->tpot) (2.2.2)\n",
      "Requirement already satisfied: certifi>=2017.4.17 in c:\\users\\punith\\anaconda3\\lib\\site-packages (from requests>=2.3.0->update-checker>=0.16->tpot) (2024.8.30)\n",
      "Note: you may need to restart the kernel to use updated packages.\n"
     ]
    }
   ],
   "source": [
    "pip install tpot"
   ]
  },
  {
   "cell_type": "code",
   "execution_count": 5,
   "id": "c7e0fd74",
   "metadata": {},
   "outputs": [
    {
     "name": "stderr",
     "output_type": "stream",
     "text": [
      "[nltk_data] Downloading package stopwords to\n",
      "[nltk_data]     C:\\Users\\Punith\\AppData\\Roaming\\nltk_data...\n",
      "[nltk_data]   Package stopwords is already up-to-date!\n"
     ]
    },
    {
     "data": {
      "text/plain": [
       "True"
      ]
     },
     "execution_count": 5,
     "metadata": {},
     "output_type": "execute_result"
    }
   ],
   "source": [
    "nltk.download('stopwords')"
   ]
  },
  {
   "cell_type": "code",
   "execution_count": 6,
   "id": "e95028bf",
   "metadata": {},
   "outputs": [
    {
     "name": "stdout",
     "output_type": "stream",
     "text": [
      "['i', 'me', 'my', 'myself', 'we', 'our', 'ours', 'ourselves', 'you', \"you're\", \"you've\", \"you'll\", \"you'd\", 'your', 'yours', 'yourself', 'yourselves', 'he', 'him', 'his', 'himself', 'she', \"she's\", 'her', 'hers', 'herself', 'it', \"it's\", 'its', 'itself', 'they', 'them', 'their', 'theirs', 'themselves', 'what', 'which', 'who', 'whom', 'this', 'that', \"that'll\", 'these', 'those', 'am', 'is', 'are', 'was', 'were', 'be', 'been', 'being', 'have', 'has', 'had', 'having', 'do', 'does', 'did', 'doing', 'a', 'an', 'the', 'and', 'but', 'if', 'or', 'because', 'as', 'until', 'while', 'of', 'at', 'by', 'for', 'with', 'about', 'against', 'between', 'into', 'through', 'during', 'before', 'after', 'above', 'below', 'to', 'from', 'up', 'down', 'in', 'out', 'on', 'off', 'over', 'under', 'again', 'further', 'then', 'once', 'here', 'there', 'when', 'where', 'why', 'how', 'all', 'any', 'both', 'each', 'few', 'more', 'most', 'other', 'some', 'such', 'no', 'nor', 'not', 'only', 'own', 'same', 'so', 'than', 'too', 'very', 's', 't', 'can', 'will', 'just', 'don', \"don't\", 'should', \"should've\", 'now', 'd', 'll', 'm', 'o', 're', 've', 'y', 'ain', 'aren', \"aren't\", 'couldn', \"couldn't\", 'didn', \"didn't\", 'doesn', \"doesn't\", 'hadn', \"hadn't\", 'hasn', \"hasn't\", 'haven', \"haven't\", 'isn', \"isn't\", 'ma', 'mightn', \"mightn't\", 'mustn', \"mustn't\", 'needn', \"needn't\", 'shan', \"shan't\", 'shouldn', \"shouldn't\", 'wasn', \"wasn't\", 'weren', \"weren't\", 'won', \"won't\", 'wouldn', \"wouldn't\"]\n"
     ]
    }
   ],
   "source": [
    "print (stopwords.words('english'))"
   ]
  },
  {
   "cell_type": "markdown",
   "id": "ea521c19",
   "metadata": {},
   "source": [
    "# Exploratory Data Analysis¶\n"
   ]
  },
  {
   "cell_type": "code",
   "execution_count": 42,
   "id": "968fa226",
   "metadata": {
    "scrolled": true
   },
   "outputs": [
    {
     "data": {
      "text/html": [
       "<div>\n",
       "<style scoped>\n",
       "    .dataframe tbody tr th:only-of-type {\n",
       "        vertical-align: middle;\n",
       "    }\n",
       "\n",
       "    .dataframe tbody tr th {\n",
       "        vertical-align: top;\n",
       "    }\n",
       "\n",
       "    .dataframe thead th {\n",
       "        text-align: right;\n",
       "    }\n",
       "</style>\n",
       "<table border=\"1\" class=\"dataframe\">\n",
       "  <thead>\n",
       "    <tr style=\"text-align: right;\">\n",
       "      <th></th>\n",
       "      <th>id</th>\n",
       "      <th>title</th>\n",
       "      <th>author</th>\n",
       "      <th>text</th>\n",
       "      <th>label</th>\n",
       "    </tr>\n",
       "  </thead>\n",
       "  <tbody>\n",
       "    <tr>\n",
       "      <th>0</th>\n",
       "      <td>0</td>\n",
       "      <td>House Dem Aide: We Didn’t Even See Comey’s Let...</td>\n",
       "      <td>Darrell Lucus</td>\n",
       "      <td>House Dem Aide: We Didn’t Even See Comey’s Let...</td>\n",
       "      <td>1</td>\n",
       "    </tr>\n",
       "    <tr>\n",
       "      <th>1</th>\n",
       "      <td>1</td>\n",
       "      <td>FLYNN: Hillary Clinton, Big Woman on Campus - ...</td>\n",
       "      <td>Daniel J. Flynn</td>\n",
       "      <td>Ever get the feeling your life circles the rou...</td>\n",
       "      <td>0</td>\n",
       "    </tr>\n",
       "    <tr>\n",
       "      <th>2</th>\n",
       "      <td>2</td>\n",
       "      <td>Why the Truth Might Get You Fired</td>\n",
       "      <td>Consortiumnews.com</td>\n",
       "      <td>Why the Truth Might Get You Fired October 29, ...</td>\n",
       "      <td>1</td>\n",
       "    </tr>\n",
       "    <tr>\n",
       "      <th>3</th>\n",
       "      <td>3</td>\n",
       "      <td>15 Civilians Killed In Single US Airstrike Hav...</td>\n",
       "      <td>Jessica Purkiss</td>\n",
       "      <td>Videos 15 Civilians Killed In Single US Airstr...</td>\n",
       "      <td>1</td>\n",
       "    </tr>\n",
       "    <tr>\n",
       "      <th>4</th>\n",
       "      <td>4</td>\n",
       "      <td>Iranian woman jailed for fictional unpublished...</td>\n",
       "      <td>Howard Portnoy</td>\n",
       "      <td>Print \\nAn Iranian woman has been sentenced to...</td>\n",
       "      <td>1</td>\n",
       "    </tr>\n",
       "  </tbody>\n",
       "</table>\n",
       "</div>"
      ],
      "text/plain": [
       "   id                                              title              author  \\\n",
       "0   0  House Dem Aide: We Didn’t Even See Comey’s Let...       Darrell Lucus   \n",
       "1   1  FLYNN: Hillary Clinton, Big Woman on Campus - ...     Daniel J. Flynn   \n",
       "2   2                  Why the Truth Might Get You Fired  Consortiumnews.com   \n",
       "3   3  15 Civilians Killed In Single US Airstrike Hav...     Jessica Purkiss   \n",
       "4   4  Iranian woman jailed for fictional unpublished...      Howard Portnoy   \n",
       "\n",
       "                                                text  label  \n",
       "0  House Dem Aide: We Didn’t Even See Comey’s Let...      1  \n",
       "1  Ever get the feeling your life circles the rou...      0  \n",
       "2  Why the Truth Might Get You Fired October 29, ...      1  \n",
       "3  Videos 15 Civilians Killed In Single US Airstr...      1  \n",
       "4  Print \\nAn Iranian woman has been sentenced to...      1  "
      ]
     },
     "execution_count": 42,
     "metadata": {},
     "output_type": "execute_result"
    }
   ],
   "source": [
    "train_news = pd.read_csv(r\"C:\\Users\\Punith\\Downloads\\train.csv\\train.csv\")\n",
    "train_news.head()"
   ]
  },
  {
   "cell_type": "code",
   "execution_count": 44,
   "id": "cce614c3",
   "metadata": {
    "scrolled": true
   },
   "outputs": [
    {
     "data": {
      "text/html": [
       "<div>\n",
       "<style scoped>\n",
       "    .dataframe tbody tr th:only-of-type {\n",
       "        vertical-align: middle;\n",
       "    }\n",
       "\n",
       "    .dataframe tbody tr th {\n",
       "        vertical-align: top;\n",
       "    }\n",
       "\n",
       "    .dataframe thead th {\n",
       "        text-align: right;\n",
       "    }\n",
       "</style>\n",
       "<table border=\"1\" class=\"dataframe\">\n",
       "  <thead>\n",
       "    <tr style=\"text-align: right;\">\n",
       "      <th></th>\n",
       "      <th>id</th>\n",
       "      <th>title</th>\n",
       "      <th>author</th>\n",
       "      <th>text</th>\n",
       "    </tr>\n",
       "  </thead>\n",
       "  <tbody>\n",
       "    <tr>\n",
       "      <th>0</th>\n",
       "      <td>20800</td>\n",
       "      <td>Specter of Trump Loosens Tongues, if Not Purse...</td>\n",
       "      <td>David Streitfeld</td>\n",
       "      <td>PALO ALTO, Calif.  —   After years of scorning...</td>\n",
       "    </tr>\n",
       "    <tr>\n",
       "      <th>1</th>\n",
       "      <td>20801</td>\n",
       "      <td>Russian warships ready to strike terrorists ne...</td>\n",
       "      <td>NaN</td>\n",
       "      <td>Russian warships ready to strike terrorists ne...</td>\n",
       "    </tr>\n",
       "    <tr>\n",
       "      <th>2</th>\n",
       "      <td>20802</td>\n",
       "      <td>#NoDAPL: Native American Leaders Vow to Stay A...</td>\n",
       "      <td>Common Dreams</td>\n",
       "      <td>Videos #NoDAPL: Native American Leaders Vow to...</td>\n",
       "    </tr>\n",
       "    <tr>\n",
       "      <th>3</th>\n",
       "      <td>20803</td>\n",
       "      <td>Tim Tebow Will Attempt Another Comeback, This ...</td>\n",
       "      <td>Daniel Victor</td>\n",
       "      <td>If at first you don’t succeed, try a different...</td>\n",
       "    </tr>\n",
       "    <tr>\n",
       "      <th>4</th>\n",
       "      <td>20804</td>\n",
       "      <td>Keiser Report: Meme Wars (E995)</td>\n",
       "      <td>Truth Broadcast Network</td>\n",
       "      <td>42 mins ago 1 Views 0 Comments 0 Likes 'For th...</td>\n",
       "    </tr>\n",
       "  </tbody>\n",
       "</table>\n",
       "</div>"
      ],
      "text/plain": [
       "      id                                              title  \\\n",
       "0  20800  Specter of Trump Loosens Tongues, if Not Purse...   \n",
       "1  20801  Russian warships ready to strike terrorists ne...   \n",
       "2  20802  #NoDAPL: Native American Leaders Vow to Stay A...   \n",
       "3  20803  Tim Tebow Will Attempt Another Comeback, This ...   \n",
       "4  20804                    Keiser Report: Meme Wars (E995)   \n",
       "\n",
       "                    author                                               text  \n",
       "0         David Streitfeld  PALO ALTO, Calif.  —   After years of scorning...  \n",
       "1                      NaN  Russian warships ready to strike terrorists ne...  \n",
       "2            Common Dreams  Videos #NoDAPL: Native American Leaders Vow to...  \n",
       "3            Daniel Victor  If at first you don’t succeed, try a different...  \n",
       "4  Truth Broadcast Network  42 mins ago 1 Views 0 Comments 0 Likes 'For th...  "
      ]
     },
     "execution_count": 44,
     "metadata": {},
     "output_type": "execute_result"
    }
   ],
   "source": [
    "test_news = pd.read_csv(r\"C:\\Users\\Punith\\Downloads\\test.csv\\test.csv\")\n",
    "test_news.head()"
   ]
  },
  {
   "cell_type": "code",
   "execution_count": 46,
   "id": "df92df46",
   "metadata": {},
   "outputs": [
    {
     "data": {
      "text/plain": [
       "(20800, 5)"
      ]
     },
     "execution_count": 46,
     "metadata": {},
     "output_type": "execute_result"
    }
   ],
   "source": [
    "train_news.shape"
   ]
  },
  {
   "cell_type": "code",
   "execution_count": 50,
   "id": "7504c173",
   "metadata": {},
   "outputs": [
    {
     "data": {
      "text/plain": [
       "(5200, 4)"
      ]
     },
     "execution_count": 50,
     "metadata": {},
     "output_type": "execute_result"
    }
   ],
   "source": [
    "test_news.shape\n"
   ]
  },
  {
   "cell_type": "markdown",
   "id": "a0ccf517",
   "metadata": {},
   "source": [
    "- stropwords are those words which dosen't add much value to a paragraph or text can be the words such as (the, a , you , where, what ,when, etc...)\n",
    "\n"
   ]
  },
  {
   "cell_type": "code",
   "execution_count": 52,
   "id": "ae07ff12",
   "metadata": {
    "scrolled": true
   },
   "outputs": [
    {
     "data": {
      "text/plain": [
       "id           0\n",
       "title      558\n",
       "author    1957\n",
       "text        39\n",
       "label        0\n",
       "dtype: int64"
      ]
     },
     "execution_count": 52,
     "metadata": {},
     "output_type": "execute_result"
    }
   ],
   "source": [
    "train_news.isnull().sum()\n"
   ]
  },
  {
   "cell_type": "code",
   "execution_count": 54,
   "id": "1d4b9396",
   "metadata": {
    "scrolled": true
   },
   "outputs": [
    {
     "data": {
      "text/plain": [
       "id          0\n",
       "title     122\n",
       "author    503\n",
       "text        7\n",
       "dtype: int64"
      ]
     },
     "execution_count": 54,
     "metadata": {},
     "output_type": "execute_result"
    }
   ],
   "source": [
    "test_news.isnull().sum()\n"
   ]
  },
  {
   "cell_type": "markdown",
   "id": "757ea5dd",
   "metadata": {},
   "source": [
    "# Data Pre-processing\n"
   ]
  },
  {
   "cell_type": "code",
   "execution_count": 56,
   "id": "30aaff08",
   "metadata": {},
   "outputs": [],
   "source": [
    "# replacing the null values with empty string\n",
    "train_news = train_news.fillna(' ')\n",
    "test_news = test_news.fillna(' ')"
   ]
  },
  {
   "cell_type": "code",
   "execution_count": 58,
   "id": "db11bf0f",
   "metadata": {},
   "outputs": [],
   "source": [
    "# merging the author name and news title\n",
    "train_news['content'] = train_news['author']+' '+train_news['title']\n",
    "test_news['content'] = test_news['author']+' '+test_news['title']"
   ]
  },
  {
   "cell_type": "code",
   "execution_count": 60,
   "id": "4e4c18de",
   "metadata": {},
   "outputs": [
    {
     "name": "stdout",
     "output_type": "stream",
     "text": [
      "0        Darrell Lucus House Dem Aide: We Didn’t Even S...\n",
      "1        Daniel J. Flynn FLYNN: Hillary Clinton, Big Wo...\n",
      "2        Consortiumnews.com Why the Truth Might Get You...\n",
      "3        Jessica Purkiss 15 Civilians Killed In Single ...\n",
      "4        Howard Portnoy Iranian woman jailed for fictio...\n",
      "                               ...                        \n",
      "20795    Jerome Hudson Rapper T.I.: Trump a ’Poster Chi...\n",
      "20796    Benjamin Hoffman N.F.L. Playoffs: Schedule, Ma...\n",
      "20797    Michael J. de la Merced and Rachel Abrams Macy...\n",
      "20798    Alex Ansary NATO, Russia To Hold Parallel Exer...\n",
      "20799              David Swanson What Keeps the F-35 Alive\n",
      "Name: content, Length: 20800, dtype: object\n"
     ]
    }
   ],
   "source": [
    "print(train_news['content'])"
   ]
  },
  {
   "cell_type": "code",
   "execution_count": 62,
   "id": "21dda020",
   "metadata": {
    "scrolled": true
   },
   "outputs": [
    {
     "name": "stdout",
     "output_type": "stream",
     "text": [
      "0       David Streitfeld Specter of Trump Loosens Tong...\n",
      "1         Russian warships ready to strike terrorists ...\n",
      "2       Common Dreams #NoDAPL: Native American Leaders...\n",
      "3       Daniel Victor Tim Tebow Will Attempt Another C...\n",
      "4       Truth Broadcast Network Keiser Report: Meme Wa...\n",
      "                              ...                        \n",
      "5195    Jody Rosen The Bangladeshi Traffic Jam That Ne...\n",
      "5196    Sheryl Gay Stolberg John Kasich Signs One Abor...\n",
      "5197    Mike McPhate California Today: What, Exactly, ...\n",
      "5198      300 US Marines To Be Deployed To Russian Bor...\n",
      "5199    Teddy Wayne Awkward Sex, Onscreen and Off - Th...\n",
      "Name: content, Length: 5200, dtype: object\n"
     ]
    }
   ],
   "source": [
    "print(test_news['content'])"
   ]
  },
  {
   "cell_type": "markdown",
   "id": "2c680333",
   "metadata": {},
   "source": [
    "# Stemming:\n",
    "\n",
    "Stemming is the process of reducing a word to its Root word\n",
    "\n",
    "example:\n",
    "actor, actress, acting --> act"
   ]
  },
  {
   "cell_type": "code",
   "execution_count": 64,
   "id": "6e8e841e",
   "metadata": {},
   "outputs": [],
   "source": [
    "port_stem = PorterStemmer()"
   ]
  },
  {
   "cell_type": "code",
   "execution_count": 66,
   "id": "4a8989df",
   "metadata": {},
   "outputs": [],
   "source": [
    "def stemming(content):\n",
    "    stemmed_content = re.sub('^a-zA-Z', ' ', content)\n",
    "    stemmed_content = stemmed_content.lower()\n",
    "    stemmed_content = stemmed_content.split()\n",
    "    stemmed_content = [port_stem.stem(word) for word in stemmed_content if not word in stopwords.words('english')]\n",
    "    stemmed_content = ' '.join(stemmed_content)\n",
    "    return stemmed_content"
   ]
  },
  {
   "cell_type": "code",
   "execution_count": 70,
   "id": "f2700bf5",
   "metadata": {},
   "outputs": [],
   "source": [
    "train_news['content'] = train_news['content'].apply(stemming)\n",
    "test_news['content'] = test_news['content'].apply(stemming)\n"
   ]
  },
  {
   "cell_type": "code",
   "execution_count": 72,
   "id": "6df32ec5",
   "metadata": {},
   "outputs": [
    {
     "name": "stdout",
     "output_type": "stream",
     "text": [
      "0        darrel lucu hou dem aide: didn’t even see come...\n",
      "1        daniel j. flynn flynn: hillari clinton, big wo...\n",
      "2                  consortiumnews.com truth might get fire\n",
      "3        jessica purkiss 15 civilian kill singl us airs...\n",
      "4        howard portnoy iranian woman jail fiction unpu...\n",
      "                               ...                        \n",
      "20795    jerom hudson rapper t.i.: trump ’poster child ...\n",
      "20796    benjamin hoffman n.f.l. playoffs: schedule, ma...\n",
      "20797    michael j. de la merc rachel abram macy’ said ...\n",
      "20798    alex ansari nato, russia hold parallel exerci ...\n",
      "20799                         david swanson keep f-35 aliv\n",
      "Name: content, Length: 20800, dtype: object\n"
     ]
    }
   ],
   "source": [
    "print(train_news['content'])"
   ]
  },
  {
   "cell_type": "code",
   "execution_count": 74,
   "id": "bd6d1f91",
   "metadata": {},
   "outputs": [
    {
     "name": "stdout",
     "output_type": "stream",
     "text": [
      "0       david streitfeld specter trump loosen tongues,...\n",
      "1       russian warship readi strike terrorist near al...\n",
      "2       common dream #nodapl: nativ american leader vo...\n",
      "3       daniel victor tim tebow attempt anoth comeback...\n",
      "4       truth broadcast network keiser report: meme wa...\n",
      "                              ...                        \n",
      "5195    jodi rosen bangladeshi traffic jam never end -...\n",
      "5196    sheryl gay stolberg john kasich sign one abort...\n",
      "5197    mike mcphate california today: what, exactly, ...\n",
      "5198            300 us marin deploy russian border norway\n",
      "5199     teddi wayn awkward sex, onscreen - new york time\n",
      "Name: content, Length: 5200, dtype: object\n"
     ]
    }
   ],
   "source": [
    "print(test_news['content'])"
   ]
  },
  {
   "cell_type": "code",
   "execution_count": 76,
   "id": "fe53118e",
   "metadata": {},
   "outputs": [],
   "source": [
    "#separating the data and label\n",
    "X = train_news['content'].values\n",
    "Y = train_news['label'].values\n"
   ]
  },
  {
   "cell_type": "code",
   "execution_count": 78,
   "id": "6901254b",
   "metadata": {},
   "outputs": [
    {
     "name": "stdout",
     "output_type": "stream",
     "text": [
      "['darrel lucu hou dem aide: didn’t even see comey’ letter jason chaffetz tweet'\n",
      " 'daniel j. flynn flynn: hillari clinton, big woman campu - breitbart'\n",
      " 'consortiumnews.com truth might get fire' ...\n",
      " 'michael j. de la merc rachel abram macy’ said receiv takeov approach hudson’ bay - new york time'\n",
      " 'alex ansari nato, russia hold parallel exerci balkan'\n",
      " 'david swanson keep f-35 aliv']\n"
     ]
    }
   ],
   "source": [
    "print(X)\n"
   ]
  },
  {
   "cell_type": "code",
   "execution_count": 80,
   "id": "7705b49a",
   "metadata": {},
   "outputs": [
    {
     "name": "stdout",
     "output_type": "stream",
     "text": [
      "[1 0 1 ... 0 1 1]\n"
     ]
    }
   ],
   "source": [
    "print(Y)"
   ]
  },
  {
   "cell_type": "code",
   "execution_count": 82,
   "id": "b4597284",
   "metadata": {},
   "outputs": [
    {
     "data": {
      "text/plain": [
       "(20800,)"
      ]
     },
     "execution_count": 82,
     "metadata": {},
     "output_type": "execute_result"
    }
   ],
   "source": [
    "Y.shape"
   ]
  },
  {
   "cell_type": "markdown",
   "id": "ef8face2",
   "metadata": {},
   "source": [
    "# Converting the Textual Data to Numerical Data\n"
   ]
  },
  {
   "cell_type": "code",
   "execution_count": 84,
   "id": "79bd088f",
   "metadata": {},
   "outputs": [],
   "source": [
    "transformer = TfidfTransformer(smooth_idf=False)\n",
    "count_vectorizer = CountVectorizer(ngram_range=(1, 2))\n",
    "counts = count_vectorizer.fit_transform(train_news['content'].values)\n",
    "X = transformer.fit_transform(counts)"
   ]
  },
  {
   "cell_type": "code",
   "execution_count": 86,
   "id": "e7b63973",
   "metadata": {},
   "outputs": [],
   "source": [
    "Y = train_news['label'].values\n",
    "test_counts = count_vectorizer.transform(test_news['content'].values)\n",
    "test_tfidf = transformer.fit_transform(test_counts)"
   ]
  },
  {
   "cell_type": "code",
   "execution_count": 88,
   "id": "8061600d",
   "metadata": {
    "scrolled": true
   },
   "outputs": [
    {
     "name": "stdout",
     "output_type": "stream",
     "text": [
      "  (0, 135759)\t0.15884426945682192\n",
      "  (0, 115653)\t0.2479269146754261\n",
      "  (0, 115642)\t0.1374704717704294\n",
      "  (0, 77526)\t0.2479269146754261\n",
      "  (0, 77519)\t0.1957576706434345\n",
      "  (0, 74711)\t0.2479269146754261\n",
      "  (0, 74689)\t0.15593020934639584\n",
      "  (0, 67700)\t0.19814480433478587\n",
      "  (0, 67696)\t0.1321055540530661\n",
      "  (0, 61835)\t0.2479269146754261\n",
      "  (0, 61795)\t0.11930975506592617\n",
      "  (0, 44035)\t0.2479269146754261\n",
      "  (0, 43977)\t0.12432671444573205\n",
      "  (0, 36662)\t0.22303585950510596\n",
      "  (0, 36652)\t0.1597506629145029\n",
      "  (0, 35070)\t0.2479269146754261\n",
      "  (0, 35066)\t0.14597556030279424\n",
      "  (0, 32981)\t0.1957576706434345\n",
      "  (0, 32980)\t0.19359824555027563\n",
      "  (0, 27453)\t0.19814480433478587\n",
      "  (0, 27387)\t0.1315660805951504\n",
      "  (0, 22387)\t0.2479269146754261\n",
      "  (0, 22380)\t0.19814480433478587\n",
      "  (0, 4861)\t0.2479269146754261\n",
      "  (0, 4860)\t0.21651790006593888\n",
      "  :\t:\n",
      "  (20797, 2565)\t0.17754313613042227\n",
      "  (20798, 111999)\t0.3171116393668421\n",
      "  (20798, 111890)\t0.13565821442973863\n",
      "  (20798, 94384)\t0.3171116393668421\n",
      "  (20798, 94383)\t0.2852746630508008\n",
      "  (20798, 87278)\t0.29702474374530186\n",
      "  (20798, 87242)\t0.19399337117058932\n",
      "  (20798, 60952)\t0.3171116393668421\n",
      "  (20798, 60916)\t0.1989476024555316\n",
      "  (20798, 44734)\t0.3171116393668421\n",
      "  (20798, 44733)\t0.2568509525022214\n",
      "  (20798, 11797)\t0.27693784812376165\n",
      "  (20798, 7768)\t0.29702474374530186\n",
      "  (20798, 7727)\t0.18905688772617318\n",
      "  (20798, 5474)\t0.18940815584156476\n",
      "  (20798, 5473)\t0.17329205116131682\n",
      "  (20799, 126886)\t0.4330263902498437\n",
      "  (20799, 126880)\t0.3089481722249457\n",
      "  (20799, 69903)\t0.389551950276176\n",
      "  (20799, 69901)\t0.24923790049632386\n",
      "  (20799, 33277)\t0.3233091194528707\n",
      "  (20799, 33212)\t0.20538477686139214\n",
      "  (20799, 5670)\t0.3165086369202432\n",
      "  (20799, 1512)\t0.389551950276176\n",
      "  (20799, 1511)\t0.3233091194528707\n"
     ]
    }
   ],
   "source": [
    "print(X)"
   ]
  },
  {
   "cell_type": "code",
   "execution_count": 90,
   "id": "5dd9b36e",
   "metadata": {},
   "outputs": [
    {
     "data": {
      "text/plain": [
       "(20800, 149649)"
      ]
     },
     "execution_count": 90,
     "metadata": {},
     "output_type": "execute_result"
    }
   ],
   "source": [
    "X.shape"
   ]
  },
  {
   "cell_type": "code",
   "execution_count": 92,
   "id": "da0ebe8a",
   "metadata": {
    "scrolled": true
   },
   "outputs": [
    {
     "name": "stdout",
     "output_type": "stream",
     "text": [
      "  (0, 146785)\t0.09183124629402446\n",
      "  (0, 146723)\t0.09159344849469447\n",
      "  (0, 138485)\t0.31361994032847285\n",
      "  (0, 133724)\t0.11556335066394374\n",
      "  (0, 131095)\t0.08973809446727839\n",
      "  (0, 124921)\t0.37176774852019523\n",
      "  (0, 119017)\t0.31922088484910977\n",
      "  (0, 119016)\t0.31922088484910977\n",
      "  (0, 103263)\t0.4008416526160564\n",
      "  (0, 88589)\t0.09159344849469447\n",
      "  (0, 88213)\t0.08864338808734092\n",
      "  (0, 77007)\t0.4008416526160564\n",
      "  (0, 33276)\t0.37176774852019523\n",
      "  (0, 33212)\t0.21352013132269787\n",
      "  (1, 141758)\t0.3197321056732977\n",
      "  (1, 129323)\t0.24220695226346456\n",
      "  (1, 125054)\t0.37398379841863216\n",
      "  (1, 124993)\t0.253017941422062\n",
      "  (1, 112345)\t0.33099034911763164\n",
      "  (1, 112174)\t0.20450347654140066\n",
      "  (1, 105552)\t0.37398379841863216\n",
      "  (1, 105513)\t0.27360623911302084\n",
      "  (1, 87556)\t0.37398379841863216\n",
      "  (1, 87555)\t0.25875516928673514\n",
      "  (1, 5370)\t0.24961280999962987\n",
      "  :\t:\n",
      "  (5197, 81153)\t0.3437050953071142\n",
      "  (5197, 81147)\t0.32881349067825716\n",
      "  (5197, 19633)\t0.3437050953071142\n",
      "  (5197, 19569)\t0.2854637071814326\n",
      "  (5198, 137951)\t0.33805719608963114\n",
      "  (5198, 137804)\t0.18388483916776885\n",
      "  (5198, 112198)\t0.3103521962588264\n",
      "  (5198, 112174)\t0.2088697512011079\n",
      "  (5198, 89820)\t0.3265585822423331\n",
      "  (5198, 79529)\t0.38196858190394256\n",
      "  (5198, 79523)\t0.28264719642802166\n",
      "  (5198, 35731)\t0.2988535824115284\n",
      "  (5198, 16590)\t0.2345245649355333\n",
      "  (5198, 1455)\t0.38196858190394256\n",
      "  (5198, 1439)\t0.2988535824115284\n",
      "  (5199, 146785)\t0.11005056724472459\n",
      "  (5199, 146723)\t0.10976559035764172\n",
      "  (5199, 142315)\t0.4106843094497719\n",
      "  (5199, 131095)\t0.10754213405712311\n",
      "  (5199, 116965)\t0.33507941973315636\n",
      "  (5199, 92335)\t0.4803686438542903\n",
      "  (5199, 92334)\t0.4803686438542903\n",
      "  (5199, 88589)\t0.10976559035764172\n",
      "  (5199, 88213)\t0.1062302379113079\n",
      "  (5199, 11066)\t0.4455264766520311\n"
     ]
    }
   ],
   "source": [
    "print(test_tfidf)"
   ]
  },
  {
   "cell_type": "code",
   "execution_count": 94,
   "id": "eaf064ac",
   "metadata": {},
   "outputs": [
    {
     "data": {
      "text/plain": [
       "(5200, 149649)"
      ]
     },
     "execution_count": 94,
     "metadata": {},
     "output_type": "execute_result"
    }
   ],
   "source": [
    "test_tfidf.shape"
   ]
  },
  {
   "cell_type": "markdown",
   "id": "deec5b8a",
   "metadata": {},
   "source": [
    "# Spliting the data into training and testing data\n"
   ]
  },
  {
   "cell_type": "code",
   "execution_count": 96,
   "id": "20935ced",
   "metadata": {},
   "outputs": [],
   "source": [
    "X_train, X_test, Y_train, Y_test = train_test_split(X, Y, test_size = 0.2, stratify=Y, random_state=42)"
   ]
  },
  {
   "cell_type": "code",
   "execution_count": 98,
   "id": "7ff42f82",
   "metadata": {},
   "outputs": [
    {
     "name": "stdout",
     "output_type": "stream",
     "text": [
      "Number of Training dataset: 16640\n",
      "Number of Testing dataset: 4160\n"
     ]
    }
   ],
   "source": [
    "print(f\"Number of Training dataset: {X_train.shape[0]}\\nNumber of Testing dataset: {X_test.shape[0]}\")\n"
   ]
  },
  {
   "cell_type": "code",
   "execution_count": 100,
   "id": "bf06a26d",
   "metadata": {},
   "outputs": [],
   "source": [
    "def kfolds(model, model_name):\n",
    "    model = cross_val_score(model, X,Y, cv=10)\n",
    "    model_score = np.average(model)\n",
    "    print(f\"{model_name} score on cross validation: {model_score * 100}%\")\n",
    "\n",
    "def train(model, model_name):\n",
    "    model.fit(X_train, Y_train)\n",
    "    model_train_score = model.score(X_train, Y_train)\n",
    "    model_test_score = model.score(X_test, Y_test)\n",
    "    print(f\"{model_name} model score on Training data: {model_train_score * 100}%\\n{model_name} model score on Testing data: {model_test_score * 100}%\")\n",
    "\n",
    "def conf_matrix(model):\n",
    "    Y_pred = model.predict(X_test)\n",
    "    cm = confusion_matrix(Y_test, Y_pred)\n",
    "    plt.figure(figsize=(8,5))\n",
    "    sns.heatmap(cm, annot=True, fmt='.2f');\n",
    "    \n",
    "def class_report(model):\n",
    "    Y_pred = model.predict(X_test)\n",
    "    print(classification_report(Y_test, Y_pred))\n",
    "    \n",
    "def roc(model, model_name):\n",
    "    Y_pred_svm = model.decision_function(X_test)\n",
    "    svm_fpr, svm_tpr, _ = roc_curve(Y_test, Y_pred_svm)\n",
    "    auc_svm = auc(svm_fpr, svm_tpr)\n",
    "    plt.figure(figsize=(5, 5), dpi=100)\n",
    "    plt.plot(svm_fpr, svm_tpr, color=\"darkorange\", label=f'{model_name} (auc = %0.3f)' % auc_svm)\n",
    "    plt.plot([0, 1], [0, 1], color=\"navy\", lw=2, linestyle=\"--\")\n",
    "    plt.xlabel('False Positive Rate -->')\n",
    "    plt.ylabel('True Positive Rate -->')\n",
    "    plt.legend()\n",
    "    plt.show()"
   ]
  },
  {
   "cell_type": "markdown",
   "id": "605f0923",
   "metadata": {},
   "source": [
    "# Logistic Regression\n"
   ]
  },
  {
   "cell_type": "code",
   "execution_count": 102,
   "id": "0e0320c7",
   "metadata": {},
   "outputs": [
    {
     "name": "stdout",
     "output_type": "stream",
     "text": [
      "Logistic Regression model score on Training data: 99.03245192307692%\n",
      "Logistic Regression model score on Testing data: 96.77884615384616%\n"
     ]
    }
   ],
   "source": [
    "log_model = LogisticRegression()\n",
    "train(log_model, \"Logistic Regression\")"
   ]
  },
  {
   "cell_type": "code",
   "execution_count": 104,
   "id": "e3a5f930",
   "metadata": {},
   "outputs": [
    {
     "data": {
      "image/png": "[encoded data removed]",
      "text/plain": [
       "<Figure size 800x500 with 2 Axes>"
      ]
     },
     "metadata": {},
     "output_type": "display_data"
    }
   ],
   "source": [
    "conf_matrix(log_model)"
   ]
  },
  {
   "cell_type": "code",
   "execution_count": 106,
   "id": "0991d19a",
   "metadata": {},
   "outputs": [
    {
     "name": "stdout",
     "output_type": "stream",
     "text": [
      "              precision    recall  f1-score   support\n",
      "\n",
      "           0       0.99      0.94      0.97      2077\n",
      "           1       0.94      0.99      0.97      2083\n",
      "\n",
      "    accuracy                           0.97      4160\n",
      "   macro avg       0.97      0.97      0.97      4160\n",
      "weighted avg       0.97      0.97      0.97      4160\n",
      "\n"
     ]
    }
   ],
   "source": [
    "class_report(log_model)"
   ]
  },
  {
   "cell_type": "code",
   "execution_count": 108,
   "id": "a942912f",
   "metadata": {},
   "outputs": [
    {
     "data": {
      "image/png": "[encoded data removed]",
      "text/plain": [
       "<Figure size 500x500 with 1 Axes>"
      ]
     },
     "metadata": {},
     "output_type": "display_data"
    }
   ],
   "source": [
    "roc(log_model, 'Logistic_Regression')"
   ]
  },
  {
   "cell_type": "markdown",
   "id": "c906e2b8",
   "metadata": {},
   "source": [
    "# SVM Model¶\n"
   ]
  },
  {
   "cell_type": "code",
   "execution_count": 110,
   "id": "e46f4af9",
   "metadata": {},
   "outputs": [
    {
     "name": "stdout",
     "output_type": "stream",
     "text": [
      "SV_classifier model score on Training data: 99.97596153846153%\n",
      "SV_classifier model score on Testing data: 98.02884615384615%\n"
     ]
    }
   ],
   "source": [
    "svm_model = SVC()\n",
    "train(svm_model, 'SV_classifier')"
   ]
  },
  {
   "cell_type": "code",
   "execution_count": 112,
   "id": "a3830063",
   "metadata": {},
   "outputs": [
    {
     "data": {
      "image/png": "[encoded data removed]",
      "text/plain": [
       "<Figure size 800x500 with 2 Axes>"
      ]
     },
     "metadata": {},
     "output_type": "display_data"
    }
   ],
   "source": [
    "conf_matrix(svm_model)\n"
   ]
  },
  {
   "cell_type": "code",
   "execution_count": 114,
   "id": "88b04403",
   "metadata": {},
   "outputs": [
    {
     "name": "stdout",
     "output_type": "stream",
     "text": [
      "              precision    recall  f1-score   support\n",
      "\n",
      "           0       0.99      0.97      0.98      2077\n",
      "           1       0.97      0.99      0.98      2083\n",
      "\n",
      "    accuracy                           0.98      4160\n",
      "   macro avg       0.98      0.98      0.98      4160\n",
      "weighted avg       0.98      0.98      0.98      4160\n",
      "\n"
     ]
    }
   ],
   "source": [
    "class_report(svm_model)"
   ]
  },
  {
   "cell_type": "code",
   "execution_count": 116,
   "id": "23ba49b8",
   "metadata": {},
   "outputs": [
    {
     "data": {
      "image/png": "[encoded data removed]",
      "text/plain": [
       "<Figure size 500x500 with 1 Axes>"
      ]
     },
     "metadata": {},
     "output_type": "display_data"
    }
   ],
   "source": [
    "roc(svm_model, 'SV_classifier')"
   ]
  },
  {
   "cell_type": "markdown",
   "id": "783d610e",
   "metadata": {},
   "source": [
    "# Decision Tree Classifier Model¶\n"
   ]
  },
  {
   "cell_type": "code",
   "execution_count": 118,
   "id": "a43746e6",
   "metadata": {},
   "outputs": [
    {
     "name": "stdout",
     "output_type": "stream",
     "text": [
      "Decision_Tree score on cross validation: 99.52884615384615%\n",
      "Decision_Tree model score on Training data: 100.0%\n",
      "Decision_Tree model score on Testing data: 99.44711538461539%\n"
     ]
    }
   ],
   "source": [
    "dt_model = DecisionTreeClassifier()\n",
    "kfolds(dt_model, \"Decision_Tree\")\n",
    "train(dt_model, \"Decision_Tree\")"
   ]
  },
  {
   "cell_type": "code",
   "execution_count": 120,
   "id": "16757805",
   "metadata": {},
   "outputs": [
    {
     "data": {
      "image/png": "[encoded data removed]",
      "text/plain": [
       "<Figure size 800x500 with 2 Axes>"
      ]
     },
     "metadata": {},
     "output_type": "display_data"
    }
   ],
   "source": [
    "conf_matrix(dt_model)\n"
   ]
  },
  {
   "cell_type": "code",
   "execution_count": 122,
   "id": "4d6c2aa5",
   "metadata": {},
   "outputs": [
    {
     "name": "stdout",
     "output_type": "stream",
     "text": [
      "              precision    recall  f1-score   support\n",
      "\n",
      "           0       1.00      0.99      0.99      2077\n",
      "           1       0.99      1.00      0.99      2083\n",
      "\n",
      "    accuracy                           0.99      4160\n",
      "   macro avg       0.99      0.99      0.99      4160\n",
      "weighted avg       0.99      0.99      0.99      4160\n",
      "\n"
     ]
    }
   ],
   "source": [
    "class_report(dt_model)\n"
   ]
  },
  {
   "cell_type": "markdown",
   "id": "55aec0ce",
   "metadata": {},
   "source": [
    "# Random Forest Classifier¶\n"
   ]
  },
  {
   "cell_type": "code",
   "execution_count": 124,
   "id": "18a6496e",
   "metadata": {},
   "outputs": [
    {
     "name": "stdout",
     "output_type": "stream",
     "text": [
      "Random_Forest model score on Training data: 100.0%\n",
      "Random_Forest model score on Testing data: 99.27884615384616%\n"
     ]
    }
   ],
   "source": [
    "rf_model = RandomForestClassifier()\n",
    "train(rf_model, \"Random_Forest\")"
   ]
  },
  {
   "cell_type": "code",
   "execution_count": 125,
   "id": "16cd06d2",
   "metadata": {},
   "outputs": [
    {
     "data": {
      "image/png": "[encoded data removed]",
      "text/plain": [
       "<Figure size 800x500 with 2 Axes>"
      ]
     },
     "metadata": {},
     "output_type": "display_data"
    }
   ],
   "source": [
    "conf_matrix(rf_model)\n"
   ]
  },
  {
   "cell_type": "code",
   "execution_count": 128,
   "id": "c4a4b51f",
   "metadata": {},
   "outputs": [
    {
     "name": "stdout",
     "output_type": "stream",
     "text": [
      "              precision    recall  f1-score   support\n",
      "\n",
      "           0       1.00      0.99      0.99      2077\n",
      "           1       0.99      1.00      0.99      2083\n",
      "\n",
      "    accuracy                           0.99      4160\n",
      "   macro avg       0.99      0.99      0.99      4160\n",
      "weighted avg       0.99      0.99      0.99      4160\n",
      "\n"
     ]
    }
   ],
   "source": [
    "class_report(rf_model)\n"
   ]
  },
  {
   "cell_type": "markdown",
   "id": "1ba7d291",
   "metadata": {},
   "source": [
    "# K-nearest neighbors"
   ]
  },
  {
   "cell_type": "code",
   "execution_count": 130,
   "id": "29e8ef00",
   "metadata": {},
   "outputs": [
    {
     "name": "stdout",
     "output_type": "stream",
     "text": [
      "KNN model score on Training data: 96.47836538461539%\n",
      "KNN model score on Testing data: 94.54326923076923%\n"
     ]
    }
   ],
   "source": [
    "knn = KNeighborsClassifier()\n",
    "train(knn, \"KNN\")"
   ]
  },
  {
   "cell_type": "code",
   "execution_count": 131,
   "id": "28bd1e89",
   "metadata": {},
   "outputs": [
    {
     "data": {
      "image/png": "[encoded data removed]",
      "text/plain": [
       "<Figure size 800x500 with 2 Axes>"
      ]
     },
     "metadata": {},
     "output_type": "display_data"
    }
   ],
   "source": [
    "conf_matrix(knn)\n"
   ]
  },
  {
   "cell_type": "code",
   "execution_count": 132,
   "id": "18aad27c",
   "metadata": {},
   "outputs": [
    {
     "name": "stdout",
     "output_type": "stream",
     "text": [
      "              precision    recall  f1-score   support\n",
      "\n",
      "           0       0.93      0.96      0.95      2077\n",
      "           1       0.96      0.93      0.94      2083\n",
      "\n",
      "    accuracy                           0.95      4160\n",
      "   macro avg       0.95      0.95      0.95      4160\n",
      "weighted avg       0.95      0.95      0.95      4160\n",
      "\n"
     ]
    }
   ],
   "source": [
    "class_report(knn)\n"
   ]
  },
  {
   "cell_type": "markdown",
   "id": "78b04a5c",
   "metadata": {},
   "source": [
    "# Naive Bayes\n"
   ]
  },
  {
   "cell_type": "code",
   "execution_count": 136,
   "id": "efe657d9",
   "metadata": {},
   "outputs": [
    {
     "name": "stdout",
     "output_type": "stream",
     "text": [
      "Naive_Bayes score on cross validation: 96.45673076923077%\n",
      "Naive_Bayes model score on Training data: 99.65745192307692%\n",
      "Naive_Bayes model score on Testing data: 96.46634615384615%\n"
     ]
    }
   ],
   "source": [
    "naive_bayes = MultinomialNB()\n",
    "kfolds(naive_bayes, \"Naive_Bayes\")\n",
    "train(naive_bayes, \"Naive_Bayes\")"
   ]
  },
  {
   "cell_type": "code",
   "execution_count": 138,
   "id": "043a677c",
   "metadata": {},
   "outputs": [
    {
     "data": {
      "image/png": "[encoded data removed]",
      "text/plain": [
       "<Figure size 800x500 with 2 Axes>"
      ]
     },
     "metadata": {},
     "output_type": "display_data"
    }
   ],
   "source": [
    "conf_matrix(naive_bayes)\n"
   ]
  },
  {
   "cell_type": "code",
   "execution_count": 140,
   "id": "8a88fae2",
   "metadata": {},
   "outputs": [
    {
     "name": "stdout",
     "output_type": "stream",
     "text": [
      "              precision    recall  f1-score   support\n",
      "\n",
      "           0       0.94      1.00      0.97      2077\n",
      "           1       1.00      0.93      0.96      2083\n",
      "\n",
      "    accuracy                           0.96      4160\n",
      "   macro avg       0.97      0.96      0.96      4160\n",
      "weighted avg       0.97      0.96      0.96      4160\n",
      "\n"
     ]
    }
   ],
   "source": [
    "class_report(naive_bayes)\n"
   ]
  },
  {
   "cell_type": "markdown",
   "id": "2de28641",
   "metadata": {},
   "source": [
    "# Automated ML\n"
   ]
  },
  {
   "cell_type": "code",
   "execution_count": 142,
   "id": "65f31127",
   "metadata": {},
   "outputs": [
    {
     "data": {
      "application/vnd.jupyter.widget-view+json": {
       "model_id": "afdd3c85671e407b8e9f80fa669c15a2",
       "version_major": 2,
       "version_minor": 0
      },
      "text/plain": [
       "Optimization Progress:   0%|          | 0/2200 [00:00<?, ?pipeline/s]"
      ]
     },
     "metadata": {},
     "output_type": "display_data"
    },
    {
     "name": "stdout",
     "output_type": "stream",
     "text": [
      "\n",
      "\n",
      "TPOT closed during evaluation in one generation.\n",
      "WARNING: TPOT may not provide a good pipeline if TPOT is stopped/interrupted in a early generation.\n",
      "\n",
      "\n",
      "TPOT closed prematurely. Will use the current best pipeline.\n",
      "\n",
      "Best pipeline: LogisticRegression(input_matrix, C=0.5, dual=False, penalty=l2)\n",
      "Automated ML model score on Training data: 97.421875%\n",
      "Automated ML model score on Testing data: 95.57692307692308%\n"
     ]
    }
   ],
   "source": [
    "autoML = TPOTClassifier(generations=10, population_size=200, cv=20, verbosity=2, config_dict = 'TPOT sparse')\n",
    "train(autoML, \"Automated ML\")\n"
   ]
  },
  {
   "cell_type": "code",
   "execution_count": 143,
   "id": "9d164410",
   "metadata": {},
   "outputs": [
    {
     "data": {
      "image/png": "[encoded data removed]",
      "text/plain": [
       "<Figure size 800x500 with 2 Axes>"
      ]
     },
     "metadata": {},
     "output_type": "display_data"
    }
   ],
   "source": [
    "conf_matrix(autoML)\n"
   ]
  },
  {
   "cell_type": "code",
   "execution_count": 144,
   "id": "18951f26",
   "metadata": {},
   "outputs": [
    {
     "name": "stdout",
     "output_type": "stream",
     "text": [
      "              precision    recall  f1-score   support\n",
      "\n",
      "           0       0.99      0.92      0.95      2077\n",
      "           1       0.92      0.99      0.96      2083\n",
      "\n",
      "    accuracy                           0.96      4160\n",
      "   macro avg       0.96      0.96      0.96      4160\n",
      "weighted avg       0.96      0.96      0.96      4160\n",
      "\n"
     ]
    }
   ],
   "source": [
    "class_report(autoML)\n"
   ]
  },
  {
   "cell_type": "code",
   "execution_count": 147,
   "id": "18b33155",
   "metadata": {},
   "outputs": [
    {
     "ename": "NameError",
     "evalue": "name 'tp' is not defined",
     "output_type": "error",
     "traceback": [
      "\u001b[1;31m---------------------------------------------------------------------------\u001b[0m",
      "\u001b[1;31mNameError\u001b[0m                                 Traceback (most recent call last)",
      "Cell \u001b[1;32mIn[147], line 1\u001b[0m\n\u001b[1;32m----> 1\u001b[0m tp(autoML, \u001b[38;5;124m\"\u001b[39m\u001b[38;5;124mAutomated Machine Learning\u001b[39m\u001b[38;5;124m\"\u001b[39m)\n",
      "\u001b[1;31mNameError\u001b[0m: name 'tp' is not defined"
     ]
    }
   ],
   "source": [
    "tp(autoML, \"Automated Machine Learning\")\n"
   ]
  },
  {
   "cell_type": "markdown",
   "id": "121fd5ac",
   "metadata": {},
   "source": [
    "# Making Predictions\n",
    "\n"
   ]
  },
  {
   "cell_type": "markdown",
   "id": "9034a899",
   "metadata": {},
   "source": [
    "### Logistic Regression Prediction\n",
    "\n",
    "\n",
    "\n"
   ]
  },
  {
   "cell_type": "code",
   "execution_count": 149,
   "id": "d6f4bc18",
   "metadata": {},
   "outputs": [],
   "source": [
    "# Make predictions --> Logistic Regression\n",
    "predictions = log_model.predict(test_tfidf)\n",
    "# Submissions\n",
    "test_ID = test_news.id\n",
    "submission = pd.DataFrame({'id' : test_ID, 'label' : predictions})"
   ]
  },
  {
   "cell_type": "markdown",
   "id": "fd920863",
   "metadata": {},
   "source": [
    "- The submission file will consist of the ID column and a label column. We can just copy the ID column from the test file, make it a dataframe, and then add our label column.\n",
    "\n"
   ]
  },
  {
   "cell_type": "code",
   "execution_count": null,
   "id": "4e211a0e",
   "metadata": {},
   "outputs": [],
   "source": [
    "# submission = test_news.id.copy().to_frame()\n",
    "# submission['prediction'] = predictions"
   ]
  },
  {
   "cell_type": "code",
   "execution_count": 151,
   "id": "073fa14e",
   "metadata": {},
   "outputs": [
    {
     "data": {
      "text/html": [
       "<div>\n",
       "<style scoped>\n",
       "    .dataframe tbody tr th:only-of-type {\n",
       "        vertical-align: middle;\n",
       "    }\n",
       "\n",
       "    .dataframe tbody tr th {\n",
       "        vertical-align: top;\n",
       "    }\n",
       "\n",
       "    .dataframe thead th {\n",
       "        text-align: right;\n",
       "    }\n",
       "</style>\n",
       "<table border=\"1\" class=\"dataframe\">\n",
       "  <thead>\n",
       "    <tr style=\"text-align: right;\">\n",
       "      <th></th>\n",
       "      <th>id</th>\n",
       "      <th>label</th>\n",
       "    </tr>\n",
       "  </thead>\n",
       "  <tbody>\n",
       "    <tr>\n",
       "      <th>0</th>\n",
       "      <td>20800</td>\n",
       "      <td>0</td>\n",
       "    </tr>\n",
       "    <tr>\n",
       "      <th>1</th>\n",
       "      <td>20801</td>\n",
       "      <td>1</td>\n",
       "    </tr>\n",
       "    <tr>\n",
       "      <th>2</th>\n",
       "      <td>20802</td>\n",
       "      <td>1</td>\n",
       "    </tr>\n",
       "    <tr>\n",
       "      <th>3</th>\n",
       "      <td>20803</td>\n",
       "      <td>0</td>\n",
       "    </tr>\n",
       "    <tr>\n",
       "      <th>4</th>\n",
       "      <td>20804</td>\n",
       "      <td>1</td>\n",
       "    </tr>\n",
       "  </tbody>\n",
       "</table>\n",
       "</div>"
      ],
      "text/plain": [
       "      id  label\n",
       "0  20800      0\n",
       "1  20801      1\n",
       "2  20802      1\n",
       "3  20803      0\n",
       "4  20804      1"
      ]
     },
     "execution_count": 151,
     "metadata": {},
     "output_type": "execute_result"
    }
   ],
   "source": [
    "submission.head()\n"
   ]
  },
  {
   "cell_type": "code",
   "execution_count": 153,
   "id": "c23f4e1a",
   "metadata": {},
   "outputs": [],
   "source": [
    "submission.to_csv(\"./Logistic Regression.csv\", index=False) # Convert the submissions to .csv\n"
   ]
  },
  {
   "cell_type": "markdown",
   "id": "e5e5a40f",
   "metadata": {},
   "source": [
    "### dt Prediction\n",
    "\n"
   ]
  },
  {
   "cell_type": "code",
   "execution_count": 155,
   "id": "29503115",
   "metadata": {},
   "outputs": [],
   "source": [
    "# Make predictions --> \n",
    "predictions = dt_model.predict(test_tfidf)\n",
    "# Submissions\n",
    "test_ID = test_news.id\n",
    "dt_submission = pd.DataFrame({'id' : test_ID, 'label' : predictions})"
   ]
  },
  {
   "cell_type": "code",
   "execution_count": 157,
   "id": "e7d736fb",
   "metadata": {},
   "outputs": [
    {
     "data": {
      "text/html": [
       "<div>\n",
       "<style scoped>\n",
       "    .dataframe tbody tr th:only-of-type {\n",
       "        vertical-align: middle;\n",
       "    }\n",
       "\n",
       "    .dataframe tbody tr th {\n",
       "        vertical-align: top;\n",
       "    }\n",
       "\n",
       "    .dataframe thead th {\n",
       "        text-align: right;\n",
       "    }\n",
       "</style>\n",
       "<table border=\"1\" class=\"dataframe\">\n",
       "  <thead>\n",
       "    <tr style=\"text-align: right;\">\n",
       "      <th></th>\n",
       "      <th>id</th>\n",
       "      <th>label</th>\n",
       "    </tr>\n",
       "  </thead>\n",
       "  <tbody>\n",
       "    <tr>\n",
       "      <th>0</th>\n",
       "      <td>20800</td>\n",
       "      <td>0</td>\n",
       "    </tr>\n",
       "    <tr>\n",
       "      <th>1</th>\n",
       "      <td>20801</td>\n",
       "      <td>1</td>\n",
       "    </tr>\n",
       "    <tr>\n",
       "      <th>2</th>\n",
       "      <td>20802</td>\n",
       "      <td>1</td>\n",
       "    </tr>\n",
       "    <tr>\n",
       "      <th>3</th>\n",
       "      <td>20803</td>\n",
       "      <td>0</td>\n",
       "    </tr>\n",
       "    <tr>\n",
       "      <th>4</th>\n",
       "      <td>20804</td>\n",
       "      <td>1</td>\n",
       "    </tr>\n",
       "  </tbody>\n",
       "</table>\n",
       "</div>"
      ],
      "text/plain": [
       "      id  label\n",
       "0  20800      0\n",
       "1  20801      1\n",
       "2  20802      1\n",
       "3  20803      0\n",
       "4  20804      1"
      ]
     },
     "execution_count": 157,
     "metadata": {},
     "output_type": "execute_result"
    }
   ],
   "source": [
    "\n",
    "dt_submission.head()\n"
   ]
  },
  {
   "cell_type": "code",
   "execution_count": 159,
   "id": "a6c2ef3f",
   "metadata": {},
   "outputs": [],
   "source": [
    "dt_submission.to_csv(\"./Decision Tree.csv\", index=False) # Convert the submissions to .csv\n"
   ]
  },
  {
   "cell_type": "code",
   "execution_count": null,
   "id": "fa3730d2-6fc4-45f3-9577-c46c32476235",
   "metadata": {},
   "outputs": [],
   "source": []
  }
 ],
 "metadata": {
  "kernelspec": {
   "display_name": "Python 3 (ipykernel)",
   "language": "python",
   "name": "python3"
  },
  "language_info": {
   "codemirror_mode": {
    "name": "ipython",
    "version": 3
   },
   "file_extension": ".py",
   "mimetype": "text/x-python",
   "name": "python",
   "nbconvert_exporter": "python",
   "pygments_lexer": "ipython3",
   "version": "3.12.4"
  }
 },
 "nbformat": 4,
 "nbformat_minor": 5
}
